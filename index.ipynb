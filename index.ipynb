{
 "cells": [
  {
   "cell_type": "markdown",
   "metadata": {},
   "source": [
    "The notebooks from the example of how to create and execute [Jupyter notebooks] from the terminal are below: "
   ]
  },
  {
   "cell_type": "markdown",
   "metadata": {},
   "source": [
    "[executed](http://colab.research.google.com/github/marskar/biof309_fall2018/blob/master/examples/jupyter/notebooks/executed.ipynb)"
   ]
  },
  {
   "cell_type": "markdown",
   "metadata": {},
   "source": [
    "[not-executed](http://colab.research.google.com/github/marskar/biof309_fall2018/blob/master/jupyter/notebooks/not-executed.ipynb)"
   ]
  }
 ],
 "metadata": {
  "kernelspec": {
   "display_name": "Python 3",
   "language": "python",
   "name": "python3"
  },
  "language_info": {
   "codemirror_mode": {
    "name": "ipython",
    "version": 3
   },
   "file_extension": ".py",
   "mimetype": "text/x-python",
   "name": "python",
   "nbconvert_exporter": "python",
   "pygments_lexer": "ipython3",
   "version": "3.6.5"
  }
 },
 "nbformat": 4,
 "nbformat_minor": 2
}
