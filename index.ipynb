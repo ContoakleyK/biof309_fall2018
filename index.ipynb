{
 "cells": [
  {
   "cell_type": "markdown",
   "metadata": {},
   "source": [
    "The notebooks from the example of [how to create and execute Jupyter notebooks from the terminal](https://marskar.github.io/jupyter/) is below: "
   ]
  },
  {
   "cell_type": "markdown",
   "metadata": {},
   "source": [
    "[executed](http://colab.research.google.com/github/marskar/biof309_fall2018/blob/master/examples/jupyter/notebooks/executed.ipynb)"
   ]
  },
  {
   "cell_type": "markdown",
   "metadata": {},
   "source": [
    "[not-executed](http://colab.research.google.com/github/marskar/biof309_fall2018/blob/master/examples/jupyter/notebooks/not_executed.ipynb)"
   ]
  },
  {
   "cell_type": "markdown",
   "metadata": {},
   "source": [
    "The notebooks from the example of [how to create slides from Jupyter notebooks](https://marskar.github.io/slides/) is below: "
   ]
  },
  {
   "cell_type": "markdown",
   "metadata": {},
   "source": [
    "[revealjs](http://colab.research.google.com/github/marskar/biof309_fall2018/blob/master/examples/slides/revealjs.ipynb)"
   ]
  },
  {
   "cell_type": "markdown",
   "metadata": {},
   "source": [
    "The notebooks from the examples of [`cube` function](https://github.com/marskar/biof309_fall2018/tree/master/examples/cube) and [`TextFile` class](https://github.com/marskar/biof309_fall2018/tree/master/examples/text) are below:"
   ]
  },
  {
   "cell_type": "markdown",
   "metadata": {},
   "source": [
    "[cube](http://colab.research.google.com/github/marskar/biof309_fall2018/blob/master/examples/cube/cube.ipynb)"
   ]
  },
  {
   "cell_type": "markdown",
   "metadata": {},
   "source": [
    "[TextFile](http://colab.research.google.com/github/marskar/biof309_fall2018/blob/master/examples/text/zen.ipynb)"
   ]
  }
 ],
 "metadata": {
  "kernelspec": {
   "display_name": "Python 3",
   "language": "python",
   "name": "python3"
  },
  "language_info": {
   "codemirror_mode": {
    "name": "ipython",
    "version": 3
   },
   "file_extension": ".py",
   "mimetype": "text/x-python",
   "name": "python",
   "nbconvert_exporter": "python",
   "pygments_lexer": "ipython3",
   "version": "3.6.5"
  }
 },
 "nbformat": 4,
 "nbformat_minor": 2
}
