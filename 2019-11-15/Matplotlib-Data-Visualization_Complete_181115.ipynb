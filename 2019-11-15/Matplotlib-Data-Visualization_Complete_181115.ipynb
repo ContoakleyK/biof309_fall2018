{
 "cells": [
  {
   "cell_type": "markdown",
   "metadata": {},
   "source": [
    "# Data Visualization\n",
    "### Michael Chambers\n",
    "\n",
    "Today we'll break down the components and styling charts using the [Matplotlib](https://matplotlib.org/#) library. Once you understand the basics of Matploglib other Python visualization libraries are quite easy to pick up.\n",
    "\n",
    "![Hans Rosling - Gapminder](images/hans_rosling.jpg)\n",
    "\n",
    "## Handy Packages to Make Graphs\n",
    "- [Matplotlib](https://matplotlib.org/#)\n",
    "- [Pandas](https://pandas.pydata.org/pandas-docs/version/0.22/generated/pandas.DataFrame.plot.html)\n",
    "- [Seaborn](https://seaborn.pydata.org/)\n",
    "- [Altair](https://altair-viz.github.io/index.html)\n",
    "\n",
    "## Resources:\n",
    "- [Python Data Visualization — Comparing 5 Tools](https://codeburst.io/overview-of-python-data-visualization-tools-e32e1f716d10)\n",
    "- [Ten Simple Ruls For Better Figures - Nicolas Rougier](https://journals.plos.org/ploscompbiol/article?id=10.1371/journal.pcbi.1003833)\n",
    "- Matplotlib [Gallery](http://matplotlib.org/gallery.html) and [Cookbook](http://scipy.github.io/old-wiki/pages/Cookbook/Matplotlib.html)\n"
   ]
  },
  {
   "cell_type": "markdown",
   "metadata": {},
   "source": [
    "## Matplotlib Basics\n",
    "---\n",
    "Matplotlib is a 2D plotting library that is suitable for both Python scripts and Jupyter notebooks.  This library expands upon the simple plots that can be generated through Pandas, allowing you to customize to your hearts content.  We'll be using the [pyplot](https://matplotlib.org/api/pyplot_summary.html) module, which generates a plotting experience similar to MATLAB."
   ]
  },
  {
   "cell_type": "code",
   "execution_count": null,
   "metadata": {
    "collapsed": true
   },
   "outputs": [],
   "source": [
    "# these are the libraries we'll be using throughout the notebook\n",
    "import numpy as np\n",
    "import pandas as pd\n",
    "import matplotlib.pyplot as plt\n",
    "import matplotlib.cm as cm\n",
    "\n",
    "import seaborn as sns\n",
    "import altair as alt # note: this may need to be installed, not included with Anaconda\n",
    "#%matplotlib inline"
   ]
  },
  {
   "cell_type": "code",
   "execution_count": null,
   "metadata": {},
   "outputs": [],
   "source": [
    "# install altair through conda\n",
    "# conda install -c conda-forge altair"
   ]
  },
  {
   "cell_type": "code",
   "execution_count": null,
   "metadata": {},
   "outputs": [],
   "source": [
    "# check matplotlib version, running 2.2.2\n",
    "import matplotlib\n",
    "matplotlib.__version__"
   ]
  },
  {
   "cell_type": "code",
   "execution_count": null,
   "metadata": {},
   "outputs": [],
   "source": [
    "# make a simple plot\n",
    "x = [1,2,3,4]\n",
    "y = [1,4,9,16]\n",
    "plt.plot(x,y)"
   ]
  },
  {
   "cell_type": "code",
   "execution_count": null,
   "metadata": {
    "collapsed": true
   },
   "outputs": [],
   "source": [
    "# show the plot\n",
    "plt.show()"
   ]
  },
  {
   "cell_type": "code",
   "execution_count": null,
   "metadata": {
    "collapsed": true
   },
   "outputs": [],
   "source": [
    "# try showing the plot again\n",
    "plt.show()"
   ]
  },
  {
   "cell_type": "markdown",
   "metadata": {},
   "source": [
    "## Why doesn't the plot show a second time?\n",
    "\n",
    "Matplotlib.pyplot is a bit different than standard Python libraries in that we are not creating a pointer to the plot we're creating.  Instead, the plot() function is creating a single instance of a plot that we can continue to modify, but once the show() function is used it clears that plot from memory.  \n",
    "\n",
    "When working in a Jupyter notebook we can simply generate a plot in a single cell, and if we want to modify that plot we can add those modifications to that cell and run it again to see the changes."
   ]
  },
  {
   "cell_type": "code",
   "execution_count": null,
   "metadata": {},
   "outputs": [],
   "source": [
    "# run this cell multiple times, uncomment each line to make plot changes\n",
    "x = [1,2,3,4]\n",
    "y = [1,4,9,16]\n",
    "plt.plot(x,y)\n",
    "#plt.title('what a gorgeous plot title!')\n",
    "#plt.xlabel(\"here's my x-axis label\")\n",
    "#plt.ylabel(\"here's my y-axis label\")\n",
    "#plt.grid()\n",
    "plt.show()"
   ]
  },
  {
   "cell_type": "code",
   "execution_count": null,
   "metadata": {
    "collapsed": true
   },
   "outputs": [],
   "source": [
    "# and again, if we try calling the plot above we won't get anything\n",
    "# because it has already been cleared from memory\n",
    "plt.show()"
   ]
  },
  {
   "cell_type": "markdown",
   "metadata": {},
   "source": [
    "## Jupyter Magic\n",
    "Jupyter notebooks have some magic features to enhance the matplotlib experience.  You can use either of these two lines to view the plots being made.\n",
    "```python\n",
    "%matplotlib inline\n",
    "%matplotlib notebook\n",
    "```\n",
    "You only need to use these lines once, and they're commonly seen at the beginning of a Jupyter notebook when matplotlib is being imported."
   ]
  },
  {
   "cell_type": "code",
   "execution_count": null,
   "metadata": {},
   "outputs": [],
   "source": [
    "# \"%matplotlib inline\" allows us to view the plot without calling \n",
    "# the show() function\n",
    "\n",
    "# note that using this magic line is just like calling the show() function\n",
    "%matplotlib inline\n",
    "x = [1,2,3,4]\n",
    "y = [1,4,9,16]\n",
    "plt.plot(x,y)"
   ]
  },
  {
   "cell_type": "code",
   "execution_count": null,
   "metadata": {
    "collapsed": true
   },
   "outputs": [],
   "source": [
    "# try calling the show() function\n",
    "# this illustrates that \"%matplotlib inline\" acts just like show()\n",
    "plt.show()"
   ]
  },
  {
   "cell_type": "markdown",
   "metadata": {},
   "source": [
    "## Restart the jupyter notebook kernel if you want to turn off \"%matplotlib inline\""
   ]
  },
  {
   "cell_type": "code",
   "execution_count": null,
   "metadata": {},
   "outputs": [],
   "source": [
    "# for now we'll switch back to \"inline\"\n",
    "%matplotlib inline\n",
    "x = [1,2,3,4]\n",
    "y = [1,4,9,16]\n",
    "plt.plot(x,y)"
   ]
  },
  {
   "cell_type": "markdown",
   "metadata": {},
   "source": [
    "## Saving Plots\n",
    "The savefig() will save the current plot to any folder that you specify.  If you do not specify a folder it will be saved in your current working directory (which is wherever this Jupyter notebook is on your machine).  You must provide a file name for the plot, and you can also specify the format of the file (the default is \".png\")."
   ]
  },
  {
   "cell_type": "code",
   "execution_count": null,
   "metadata": {},
   "outputs": [],
   "source": [
    "# get a list of the supported filetypes for your plots\n",
    "plt.gcf().canvas.get_supported_filetypes()"
   ]
  },
  {
   "cell_type": "code",
   "execution_count": null,
   "metadata": {},
   "outputs": [],
   "source": [
    "# save your figure to your current working directory\n",
    "# note: the default file format is .png\n",
    "x = [1,2,3,4]\n",
    "y = [1,4,9,16]\n",
    "plt.plot(x,y)\n",
    "plt.savefig('my_pretty_plot')"
   ]
  },
  {
   "cell_type": "code",
   "execution_count": null,
   "metadata": {},
   "outputs": [],
   "source": [
    "# now save the plot as a .pdf in the folder \"images\"\n",
    "x = [1,2,3,4]\n",
    "y = [1,4,9,16]\n",
    "plt.plot(x,y)\n",
    "plt.savefig('images/my_pretty_plot.pdf')"
   ]
  },
  {
   "cell_type": "markdown",
   "metadata": {},
   "source": [
    "## Simple Plot Customizations\n",
    "---\n",
    "So we've covered how to make a plot with the plot() function, but we can also add some arguments to this function to chage the look of our plots, such as changing the line [colors](https://matplotlib.org/examples/color/named_colors.html) or the [marker shapes](https://matplotlib.org/api/markers_api.html) using the [Line2D](https://matplotlib.org/api/_as_gen/matplotlib.lines.Line2D.html) arguments.  You can also use the abbreviations for [colors](https://matplotlib.org/2.0.2/api/colors_api.html) and [line styles](https://matplotlib.org/gallery/lines_bars_and_markers/line_styles_reference.html).\n",
    "\n"
   ]
  },
  {
   "cell_type": "code",
   "execution_count": null,
   "metadata": {},
   "outputs": [],
   "source": [
    "# adding items to our plot\n",
    "x = [1,2,3,4]\n",
    "y = [1,4,9,16]\n",
    "plt.plot(x,y)\n",
    "plt.savefig('images/my_pretty_plot.pdf')"
   ]
  },
  {
   "cell_type": "code",
   "execution_count": null,
   "metadata": {},
   "outputs": [],
   "source": [
    "# full example of customized plot\n",
    "plt.figure(figsize=(10,10)) # change the size of your figure\n",
    "x = [1,2,3,4]\n",
    "y = [1,4,9,16]\n",
    "plt.plot(\n",
    "    x,\n",
    "    y,\n",
    "    color ='C1',\n",
    "    linewidth=4,\n",
    "    linestyle='dashed'\n",
    ")\n",
    "# layer with markers\n",
    "plt.plot(\n",
    "    x,\n",
    "    y,\n",
    "    'C0.', # i have no idea what this argument is called, but it shows just the markers\n",
    "    markersize=20\n",
    ")\n",
    "plt.title('what a gorgeous plot title!')\n",
    "plt.xlabel(\"here's my x-axis label\")\n",
    "plt.ylabel(\"here's my y-axis label\")\n",
    "plt.legend(['line data','marker data'])\n",
    "plt.grid()\n",
    "plt.savefig(\n",
    "    'images/my_pretty_plot.pdf', \n",
    "    dpi=300 # this enhances the resolution\n",
    ")"
   ]
  },
  {
   "cell_type": "markdown",
   "metadata": {},
   "source": [
    "## Style Sheets\n",
    "---\n",
    "[Style sheets](https://matplotlib.org/users/style_sheets.html) are a quick and easy way to completely modify the look of your plots.  You can use pre-defined style sheets or create your own!"
   ]
  },
  {
   "cell_type": "code",
   "execution_count": null,
   "metadata": {},
   "outputs": [],
   "source": [
    "# get a list of style sheets that are currently available to you\n",
    "for i in plt.style.available:\n",
    "    print(i)"
   ]
  },
  {
   "cell_type": "code",
   "execution_count": null,
   "metadata": {
    "collapsed": true
   },
   "outputs": [],
   "source": [
    "# bonus points to anyone who can figure out how to display the current style sheet"
   ]
  },
  {
   "cell_type": "code",
   "execution_count": null,
   "metadata": {},
   "outputs": [],
   "source": [
    "# select a style sheet from the list above to change your plot style\n",
    "plt.style.use('seaborn-dark')\n",
    "x = [1,2,3,4]\n",
    "y = [1,4,9,16]\n",
    "plt.plot(x,y)"
   ]
  },
  {
   "cell_type": "markdown",
   "metadata": {},
   "source": [
    "## Exercise\n",
    "---\n",
    "We're going to make a figure using each of the different style sheets!\n",
    "1. Construct a for loop that iterates through each of the matplotlib styles available\n",
    "    - hint: you can use the code above that we used to print off the styles\n",
    "2. Make a simple plot using the loop iterator as the style guide\n",
    "3. Save the plot using the style guide as the file name, and put the file in the \"fig_styles\" folder\n",
    "    - hint: you may want to use an f-string to name the save destination of your file\n",
    "    - eg. f'fig_styles/{style_guide_name}'\n",
    "4. Use your file browser to check out each of the graphs you made using each of the styles.  What's your favorite?  \n",
    "\n",
    "**Bonus:** Add circular markers to your simple plot, make both the line and the markers red, and save the plot as a .pdf  \n",
    "**MEGA BONUS:** Add a legend to your plots"
   ]
  },
  {
   "cell_type": "code",
   "execution_count": null,
   "metadata": {
    "collapsed": true
   },
   "outputs": [],
   "source": [
    "# solution\n",
    "\n",
    "# \"plt.style.available\" generates a list to iterate through\n",
    "for i in plt.style.available:\n",
    "    # check the state of i\n",
    "    print(i)\n",
    "    # change the style to i\n",
    "    plt.style.use(i)\n",
    "    # create plot\n",
    "    x = [1,2,3,4]\n",
    "    y = [1,4,9,16]\n",
    "    plt.plot(x,y)\n",
    "    # create plot filename that changes with i\n",
    "    file_name = str(f'fig_styles/{i}')\n",
    "    # save the plot\n",
    "    plt.savefig(file_name)"
   ]
  },
  {
   "cell_type": "markdown",
   "metadata": {},
   "source": [
    "## Lets Make Some Graphs!\n",
    "---\n",
    "We're going to revist the dataset that was used for the Pandas lesson to create a graph similar to the graph below made by Hans Rosling.  This will closely follow the [DataCamp matplotlib tutorial](https://campus.datacamp.com/courses/intermediate-python-for-data-science/matplotlib?ex=1).\n",
    "\n",
    "![Hans Rosling - Gapminder](images/hans_rosling.jpg)"
   ]
  },
  {
   "cell_type": "code",
   "execution_count": null,
   "metadata": {},
   "outputs": [],
   "source": [
    "# running 0.23.0\n",
    "pd.__version__"
   ]
  },
  {
   "cell_type": "code",
   "execution_count": null,
   "metadata": {},
   "outputs": [],
   "source": [
    "# here's the data we'll use to generate our graphs\n",
    "%matplotlib inline\n",
    "df =pd.read_csv('data/gapminder.tsv', sep='\\t')\n",
    "df.head()"
   ]
  },
  {
   "cell_type": "markdown",
   "metadata": {},
   "source": [
    "## Exploratory Visualization with Pandas\n",
    "Pandas has some built-in [visualization functions](http://pandas.pydata.org/pandas-docs/version/0.15.0/visualization.html) that can generate insightful plots."
   ]
  },
  {
   "cell_type": "code",
   "execution_count": null,
   "metadata": {},
   "outputs": [],
   "source": [
    "# example of using histograms\n",
    "df.hist(bins=20)"
   ]
  },
  {
   "cell_type": "code",
   "execution_count": null,
   "metadata": {},
   "outputs": [],
   "source": [
    "# plot the population by year\n",
    "df.plot(x='year', y='pop')"
   ]
  },
  {
   "cell_type": "code",
   "execution_count": null,
   "metadata": {},
   "outputs": [],
   "source": [
    "# add some helpful line labels\n",
    "df1 = df.pivot('year','country','pop')\n",
    "df1.plot(y=df1.columns[:5])"
   ]
  },
  {
   "cell_type": "code",
   "execution_count": null,
   "metadata": {},
   "outputs": [],
   "source": [
    "# example of boxplots\n",
    "df1.plot(y=df1.columns[:5], kind='box')"
   ]
  },
  {
   "cell_type": "markdown",
   "metadata": {},
   "source": [
    "## Exercise:\n",
    "Notice that pandas creates figures using matplotlib, so we can modify our pandas figures using matplotlib commands! \n",
    "- Try generating a histogram of the gdp values (selecting just the \"gdp per cap\" column of our dataframe)\n",
    "    - note: you may need to alter the bins value to enhance the resolution of the histogram\n",
    "- Add a title to the figure using the matplotlib commands we used earlier\n",
    "- Can you change the color of the bars?\n",
    "- What if we want our figure to be a square? \n",
    "    - hint: you can use plt.figure(figsize={your_size_tuple_here})\n",
    "- Try saving this figure as a .pdf"
   ]
  },
  {
   "cell_type": "code",
   "execution_count": null,
   "metadata": {},
   "outputs": [],
   "source": [
    "# solution\n",
    "plt.figure(figsize=(10,10)) # note: figure size argument must come before the figure is generated\n",
    "plt.title('what a gorgeous plot title!')\n",
    "plt.savefig('my_hist.pdf')"
   ]
  },
  {
   "cell_type": "markdown",
   "metadata": {},
   "source": [
    "## Using Seaborn to Expand The Pallette\n",
    "Seaborn is a helpful library if Pandas can't make the plot your looking for, and it plays super well with both Pandas DataFrames and Matplotlib objects."
   ]
  },
  {
   "cell_type": "code",
   "execution_count": null,
   "metadata": {},
   "outputs": [],
   "source": [
    "# running 0.9.0\n",
    "sns.__version__"
   ]
  },
  {
   "cell_type": "code",
   "execution_count": null,
   "metadata": {},
   "outputs": [],
   "source": [
    "# making a line graph with Seaborn\n",
    "sns.lineplot(x='year', y='pop', hue='country',data=df)"
   ]
  },
  {
   "cell_type": "code",
   "execution_count": null,
   "metadata": {},
   "outputs": [],
   "source": [
    "# limit the list of countries to the first 5\n",
    "countries = df['country'].unique().tolist()[:5]\n",
    "sns.lineplot(x='year', y='pop', hue='country',data=df.query(f\"country == {countries}\"))\n",
    "\n",
    "# is there an easier way to do this?"
   ]
  },
  {
   "cell_type": "code",
   "execution_count": null,
   "metadata": {},
   "outputs": [],
   "source": [
    "# make a correlation heat map for \"life-exp\" and \"gdp\"\n",
    "sns.heatmap(df.corr(), cmap=\"viridis\")"
   ]
  },
  {
   "cell_type": "code",
   "execution_count": null,
   "metadata": {},
   "outputs": [],
   "source": [
    "# what about that fancy graph we saw up at the top?\n",
    "# lets use just the data from the year 2007\n",
    "df_2007 = df[df['year'] == 2007]\n",
    "sns.scatterplot(x='gdp per cap',y='life-exp',hue='continent', size='pop', data=df_2007)"
   ]
  },
  {
   "cell_type": "markdown",
   "metadata": {},
   "source": [
    "## Exercise\n",
    "Try making a similar graph, but change following:\n",
    "- Select data for the year to 1952\n",
    "- Use a different \"style\" marker based on the continent of each country  \n",
    "\n",
    "**BONUS:** Can the size of the marker reflect the country's actual population (rather than being binned?)"
   ]
  },
  {
   "cell_type": "code",
   "execution_count": null,
   "metadata": {},
   "outputs": [],
   "source": [
    "# solution\n",
    "df_1952 = df[df['year'] == 1952]\n",
    "sns.scatterplot(x='gdp per cap',y='life-exp',style='continent', size='pop', data=df_2007)\n",
    "\n",
    "# i haven't figured out how to specify marker size yet"
   ]
  },
  {
   "cell_type": "markdown",
   "metadata": {},
   "source": [
    "## Interactive Visualizations with Altair\n",
    "This is next-level stuff that I just came across last night.  Interactive plots that can be saved as a .png, .svg, or .html (so they can be published or easily shared!)."
   ]
  },
  {
   "cell_type": "code",
   "execution_count": null,
   "metadata": {},
   "outputs": [],
   "source": [
    "# running 2.2.2\n",
    "alt.__version__"
   ]
  },
  {
   "cell_type": "code",
   "execution_count": null,
   "metadata": {},
   "outputs": [],
   "source": [
    "alt.Chart(df).mark_point().encode(\n",
    "    x='gdp per cap',\n",
    "    y='life-exp',\n",
    "    #color='continent',\n",
    "    #size='pop',\n",
    "    #tooltip=['country', 'year', 'life-exp', 'gdp per cap', 'pop']\n",
    ")#.interactive()"
   ]
  },
  {
   "cell_type": "code",
   "execution_count": null,
   "metadata": {},
   "outputs": [],
   "source": [
    "# create side-by-side charts and highlight points within the plot using mouse\n",
    "brush = alt.selection_interval()\n",
    "\n",
    "chart = alt.Chart(df).mark_point().encode(\n",
    "    y='life-exp',\n",
    "    color=alt.condition(brush, 'continent:N', alt.value('lightgray'))\n",
    ").properties(\n",
    "    width=250,\n",
    "    height=250\n",
    ").add_selection(\n",
    "    brush\n",
    ")\n",
    "\n",
    "chart2 = chart.encode(x='gdp per cap') | chart.encode(x='pop:Q')\n",
    "chart2.save('my_plot.html')\n",
    "chart2"
   ]
  },
  {
   "cell_type": "markdown",
   "metadata": {},
   "source": [
    "## Exercise\n",
    "Well this is really more hw/research, but is there a way to add a filter to the chart so we can select specific years to be plotted, or specific countries, or specific continents?"
   ]
  },
  {
   "cell_type": "code",
   "execution_count": null,
   "metadata": {},
   "outputs": [],
   "source": []
  },
  {
   "cell_type": "markdown",
   "metadata": {},
   "source": [
    "## Making that same pretty plot with a lot of Matplotlib code"
   ]
  },
  {
   "cell_type": "code",
   "execution_count": null,
   "metadata": {},
   "outputs": [],
   "source": [
    "# in this dataset we've got entries over multiple years\n",
    "df['year'].unique()"
   ]
  },
  {
   "cell_type": "code",
   "execution_count": null,
   "metadata": {
    "collapsed": true
   },
   "outputs": [],
   "source": [
    "# we're going to focus on the entries from 2007 for now\n",
    "# lets make a dataframe of everything from 2007\n",
    "df_2007 = df[df['year'] == 2007]"
   ]
  },
  {
   "cell_type": "code",
   "execution_count": null,
   "metadata": {},
   "outputs": [],
   "source": [
    "# and we'll plot gdp (x-axis) vs. life expectancy (y-axis) by country\n",
    "x = df_2007['gdp per cap']\n",
    "y = df_2007['life-exp']\n",
    "plt.plot(x,y)"
   ]
  },
  {
   "cell_type": "code",
   "execution_count": null,
   "metadata": {},
   "outputs": [],
   "source": [
    "# gross, lets try making it a scatter plot\n",
    "x = df_2007['gdp per cap']\n",
    "y = df_2007['life-exp']\n",
    "plt.scatter(x,y)"
   ]
  },
  {
   "cell_type": "code",
   "execution_count": null,
   "metadata": {},
   "outputs": [],
   "source": [
    "# now we can begin customizing it\n",
    "\n",
    "# first make the plot\n",
    "x = df_2007['gdp per cap']\n",
    "y = df_2007['life-exp']\n",
    "plt.scatter(x,y)\n",
    "\n",
    "# add some labels\n",
    "plt.title('GDP vs. Life Expectancy in 2007') # graph title\n",
    "plt.xlabel('GDP per Capita [USD]') # x-axis label\n",
    "plt.ylabel('Life Expectancy [years]') # y-axis label\n",
    "\n",
    "# modify the axis scale\n",
    "plt.xscale('log') # change the scale of the x axis\n",
    "\n",
    "# add some ticks\n",
    "tick_val = [1000,10000,100000]\n",
    "tick_lab=['1k','10k','100k']\n",
    "plt.xticks(tick_val, tick_lab)\n",
    "\n",
    "# and a grid!\n",
    "plt.grid(True)"
   ]
  },
  {
   "cell_type": "markdown",
   "metadata": {},
   "source": [
    "## Time to get FANCY!"
   ]
  },
  {
   "cell_type": "code",
   "execution_count": null,
   "metadata": {},
   "outputs": [],
   "source": [
    "# we're going to chage the size of each dot to represent the \n",
    "# population size of the country in 2007\n",
    "\n",
    "# change the dot size based on the population of the country\n",
    "pop_series = df_2007['pop']\n",
    "\n",
    "# convert the population series to an array\n",
    "pop_array = np.array(pop_series)\n",
    "\n",
    "# modify the scale\n",
    "pop = pop_array/1000000\n",
    "\n",
    "# make plot\n",
    "x = df_2007['gdp per cap']\n",
    "y = df_2007['life-exp']\n",
    "plt.scatter(x,y, s=pop)\n",
    "\n",
    "# labels\n",
    "plt.title('GDP vs. Life Expectancy in 2007') # graph title\n",
    "plt.xlabel('GDP per Capita [USD]') # x-axis label\n",
    "plt.ylabel('Life Expectancy [years]') # y-axis label\n",
    "\n",
    "# axis modifications\n",
    "plt.xscale('log') # change the scale of the x axis\n",
    "\n",
    "# ticks\n",
    "tick_val = [1000,10000,100000]\n",
    "tick_lab=['1k','10k','100k']\n",
    "plt.xticks(tick_val, tick_lab)\n",
    "\n",
    "# grid\n",
    "plt.grid(True)"
   ]
  },
  {
   "cell_type": "markdown",
   "metadata": {},
   "source": [
    "## Color Them DOTS!\n",
    "---\n",
    "Now we're gonna get a little fancy with some color changes using the [matplotlib.cm](https://matplotlib.org/users/colormaps.html) module.  The plan is to color each marker based on the continent that the country is in.  To do this we're going to make a dictionary using the continent nameas as the keys and the colors as the values, then map that dictionary to our dataframe to assign a specific color to each country.  From there, we can just peel off the new color column and assign that to color the markers when we make the plot."
   ]
  },
  {
   "cell_type": "code",
   "execution_count": null,
   "metadata": {},
   "outputs": [],
   "source": [
    "df['continent'].unique().tolist()"
   ]
  },
  {
   "cell_type": "code",
   "execution_count": null,
   "metadata": {
    "collapsed": true
   },
   "outputs": [],
   "source": [
    "# select matplotlib color pallet (listed in the \"matplotlib.cm\" link above)\n",
    "color_map = cm.get_cmap('viridis')"
   ]
  },
  {
   "cell_type": "code",
   "execution_count": null,
   "metadata": {
    "collapsed": true
   },
   "outputs": [],
   "source": [
    "# we'll need a list of continents\n",
    "continents = df['continent'].unique().tolist()"
   ]
  },
  {
   "cell_type": "code",
   "execution_count": null,
   "metadata": {},
   "outputs": [],
   "source": [
    "num_of_colors = len(continents)\n",
    "colors = color_map([x/float(num_of_colors) for x in range(num_of_colors)])\n",
    "\n",
    "color_dictionary = dict(zip(continents,colors))\n",
    "color_dictionary"
   ]
  },
  {
   "cell_type": "code",
   "execution_count": null,
   "metadata": {},
   "outputs": [],
   "source": [
    "# add color column to the dataframe\n",
    "df['color'] = df['continent'].map(color_dictionary)\n",
    "df.head()"
   ]
  },
  {
   "cell_type": "code",
   "execution_count": null,
   "metadata": {},
   "outputs": [],
   "source": [
    "# Now we'll add those colors to the \"c\" argument when we make the plot\n",
    "\n",
    "# recreate the df_2007 DataFrame\n",
    "df_2007 = df[df['year'] == 2007]\n",
    "x = df_2007.groupby('country')['gdp per cap'].mean()\n",
    "y = df_2007.groupby('country')['life-exp'].mean()\n",
    "\n",
    "# pull off that column to use in the figure\n",
    "continent_colors = df_2007['color']\n",
    "\n",
    "# change the marker scale based on population\n",
    "pop_series = df_2007['pop']\n",
    "pop_array = np.array(pop_series)\n",
    "pop = pop_array/1000000\n",
    "\n",
    "# make plot\n",
    "# adding the continent colors here\n",
    "# we will also make the markers transparent using alpha\n",
    "plt.scatter(x,y, s=pop, color=continent_colors, alpha=.8)\n",
    "\n",
    "# labels\n",
    "plt.title('GDP vs. Life Expectancy in 2007') # graph title\n",
    "plt.xlabel('GDP per Capita [USD]') # x-axis label\n",
    "plt.ylabel('Life Expectancy [years]') # y-axis label\n",
    "\n",
    "# axis modifications\n",
    "plt.xscale('log') # change the scale of the x axis\n",
    "\n",
    "# ticks\n",
    "tick_val = [1000,10000,100000]\n",
    "tick_lab=['1k','10k','100k']\n",
    "plt.xticks(tick_val, tick_lab)\n",
    "\n",
    "# add grid\n",
    "plt.grid(True)"
   ]
  },
  {
   "cell_type": "code",
   "execution_count": null,
   "metadata": {},
   "outputs": [],
   "source": [
    "x = df_2007.groupby('country')['gdp per cap'].mean()\n",
    "type(x)"
   ]
  },
  {
   "cell_type": "code",
   "execution_count": null,
   "metadata": {},
   "outputs": [],
   "source": [
    "# now that we have a plot that we like we can merge it all into a function\n",
    "# we can also add file_name and file_type arguments to save it\n",
    "\n",
    "# Now we'll add those colors to the \"c\" argument when we make the plot\n",
    "\n",
    "# recreate the df_2007 DataFrame\n",
    "df_2007 = df[df['year'] == 2007]\n",
    "x = df_2007['gdp per cap']\n",
    "y = df_2007['life-exp']\n",
    "\n",
    "# pull off that column to use in the figure\n",
    "continent_colors = df_2007['color']\n",
    "\n",
    "# change the marker scale based on population\n",
    "pop_series = df_2007['pop']\n",
    "pop_array = np.array(pop_series)\n",
    "pop = pop_array/1000000\n",
    "\n",
    "def bubble_plot(x,y,file_name):\n",
    "    \"\"\"Generate a bubble plot from the 2007 gapminder dataset\n",
    "    \n",
    "    Arguments\n",
    "        x(pandas.core.series.Series): values ploted on x-axis\n",
    "        y(pandas.core.series.Series): values ploted on y-axis\n",
    "        file_name(str): full file path and name\n",
    "            avoid using spaces in path and file name\n",
    "            default file format is \".png\"\n",
    "            append different file format to change\n",
    "    \"\"\"\n",
    "    # make plot\n",
    "    # adding the continent colors here\n",
    "    # we will also make the markers transparent using alpha\n",
    "    plt.scatter(x,y, s=pop, color=continent_colors, alpha=.8)\n",
    "\n",
    "    # labels\n",
    "    plt.title('GDP vs. Life Expectancy in 2007') # graph title\n",
    "    plt.xlabel('GDP per Capita [USD]') # x-axis label\n",
    "    plt.ylabel('Life Expectancy [years]') # y-axis label\n",
    "\n",
    "    # axis modifications\n",
    "    plt.xscale('log') # change the scale of the x axis\n",
    "\n",
    "    # ticks\n",
    "    tick_val = [1000,10000,100000]\n",
    "    tick_lab=['1k','10k','100k']\n",
    "    plt.xticks(tick_val, tick_lab)\n",
    "\n",
    "    # add grid\n",
    "    plt.grid(True)\n",
    "    \n",
    "    # save the plot\n",
    "    # the file_name should include the path\n",
    "    save_file = str(file_name)\n",
    "    plt.savefig(save_file)"
   ]
  },
  {
   "cell_type": "code",
   "execution_count": null,
   "metadata": {},
   "outputs": [],
   "source": [
    "# test it out as a function\n",
    "bubble_plot(x,y,'2007')"
   ]
  },
  {
   "cell_type": "markdown",
   "metadata": {},
   "source": [
    "## Exercise\n",
    "---\n",
    "Try generating a plot for each unique year in the gapminder.tsv  \n",
    "1. Include the appropriate year in the title of the graph  \n",
    "2. Save the graphs in the \"data\" folder which is already in your current working directory and incorporate the appropriate year in the file name  \n",
    "\n",
    "Remember, the current dataframe (\"df\") already has a color column already appended so you don't need to regenerate a color map through each iteration (unless you wanna get really fancy and change the collor palette for each graph :)"
   ]
  },
  {
   "cell_type": "code",
   "execution_count": null,
   "metadata": {
    "collapsed": true
   },
   "outputs": [],
   "source": []
  },
  {
   "cell_type": "code",
   "execution_count": null,
   "metadata": {},
   "outputs": [],
   "source": [
    "# solution\n",
    "years = df['year'].unique().tolist()\n",
    "\n",
    "for i in years:\n",
    "    # make a year-specific dataframe\n",
    "    year_df = df[df['year'] == i]\n",
    "    \n",
    "    # identify your x and y axis\n",
    "    x = year_df['gdp per cap']\n",
    "    y = year_df['life-exp']\n",
    "    \n",
    "    # make the list for colors\n",
    "    color_list = year_df['color']\n",
    "    \n",
    "    # make a scale for the markers\n",
    "    pop_series = year_df['pop']\n",
    "    pop_array = np.array(pop_series)\n",
    "    pop = pop_array/1000000\n",
    "    \n",
    "    # make your plot!\n",
    "    plt.scatter(x,y, s=pop, color=continent_colors, alpha=.8)\n",
    "    \n",
    "    plt.title(f'GDP vs. Life Expectancy in {i}') # Python3.6 string formatting\n",
    "    plt.xlabel('GDP per Capita [USD]')\n",
    "    plt.ylabel('Life Expectancy [years]')\n",
    "\n",
    "    plt.xscale('log')\n",
    "    \n",
    "    tick_val = [1000,10000,100000]\n",
    "    tick_lab=['1k','10k','100k']\n",
    "    plt.xticks(tick_val, tick_lab)\n",
    "\n",
    "    plt.grid(True)\n",
    "    \n",
    "    # save the file\n",
    "    plt.savefig(f'data/{i}')\n",
    "    plt.show()"
   ]
  },
  {
   "cell_type": "markdown",
   "metadata": {},
   "source": [
    "Try plotting the gdp vs. life expectancy for just China on the same plot and incorporate a color spectrum to color the markers on a gradient as a proxy to indicate the passage of time!"
   ]
  },
  {
   "cell_type": "code",
   "execution_count": null,
   "metadata": {
    "collapsed": true
   },
   "outputs": [],
   "source": []
  }
 ],
 "metadata": {
  "anaconda-cloud": {},
  "celltoolbar": "Raw Cell Format",
  "kernelspec": {
   "display_name": "Python 3",
   "language": "python",
   "name": "python3"
  },
  "language_info": {
   "codemirror_mode": {
    "name": "ipython",
    "version": 3
   },
   "file_extension": ".py",
   "mimetype": "text/x-python",
   "name": "python",
   "nbconvert_exporter": "python",
   "pygments_lexer": "ipython3",
   "version": "3.6.5"
  }
 },
 "nbformat": 4,
 "nbformat_minor": 2
}
