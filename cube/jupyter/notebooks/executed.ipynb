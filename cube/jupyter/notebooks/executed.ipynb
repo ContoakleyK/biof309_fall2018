{
 "cells": [
  {
   "cell_type": "markdown",
   "metadata": {},
   "source": [
    "# Create and execute a Jupyter notebook in the terminal\n",
    "\n",
    "## Step 1. Create a notebook\n",
    "\n",
    "Run `nbcreate.py` script in your terminal, providing all of the names of the source files as arguments, e.g.\n",
    "\n",
    "```sh\n",
    "python nbcreate.py README.md plot.py notes.txt\n",
    "```  \n",
    "\n",
    "The default output filename is `raw.ipynb`. The default output filepath is the current directory (`'.'`). \n",
    "\n",
    "You can provide a more descriptive names for the name and path:\n",
    "    \n",
    "```sh\n",
    "python nbcreate.py README.md plot.py notes.txt -o raw.ipynb -p notebooks/\n",
    "```  \n",
    "\n",
    "## Step 2. Execute the notebook\n",
    "\n",
    "Run the following command in your terminal:\n",
    "    \n",
    "```sh\n",
    "python nbexecute.py raw.ipynb -o out.ipynb\n",
    "```\n",
    "\n",
    "You can change `out.ipynb` to a more descriptive filename in the command above.\n",
    "\n",
    "You can also specify an output filepath for the executed notebook:\n",
    "\n",
    "```sh\n",
    "python nbexecute.py raw.ipynb -o out.ipynb -p notebooks/\n",
    "```\n",
    "\n",
    "## Missing a dependency?\n",
    "\n",
    "If you installed [Anaconda](https://www.anaconda.com/download/), you should already have all of the dependencies (`python`, `nbformat`, and `nbconvert`).\n",
    "\n",
    "If not, or if you have [Miniconda](https://conda.io/miniconda.html) installed, run \n",
    " \n",
    "```sh\n",
    "conda install -yc conda-forge jupyter\n",
    "```\n",
    "\n",
    "If you have any other Python installation, run\n",
    "\n",
    "```sh\n",
    "pip install jupyter\n",
    "```\n",
    "\n",
    "## Too many file names to type out?\n",
    "\n",
    "You can use the `ls` command to assign all of the relevant names in the current directory to a variable and pass this variable as an argument to `nbconvert.py`.\n",
    " \n",
    "To preserve the order and differentiate files that should be incorporated into the notebook, I recommend left padding your file names with zeros (e.g. 01_intro.md, 02_figure1.py).\n",
    " \n",
    "Consider the example below:\n",
    "\n",
    "```sh\n",
    "touch {01..09}.py\n",
    "name_list=`ls 0*.py`\n",
    "python nbcreate.py `echo $name_list`\n",
    "```\n"
   ]
  },
  {
   "cell_type": "code",
   "execution_count": 1,
   "metadata": {},
   "outputs": [
    {
     "data": {
      "text/plain": [
       "<Figure size 640x480 with 1 Axes>"
      ]
     },
     "metadata": {},
     "output_type": "display_data"
    }
   ],
   "source": [
    "import numpy as np\n",
    "import matplotlib.pyplot as plt\n",
    "# %% scatter\n",
    "N = 50\n",
    "x = np.random.rand(N)\n",
    "y = np.random.rand(N)\n",
    "colors = np.random.rand(N)\n",
    "area = np.pi * (15 * np.random.rand(N))**2  # 0 to 15 point radii\n",
    "plt.scatter(x, y, s=area, c=colors, alpha=0.5)\n",
    "plt.show()"
   ]
  },
  {
   "cell_type": "markdown",
   "metadata": {},
   "source": []
  }
 ],
 "metadata": {},
 "nbformat": 4,
 "nbformat_minor": 2
}
