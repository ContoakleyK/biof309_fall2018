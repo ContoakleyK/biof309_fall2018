{
 "cells": [
  {
   "cell_type": "markdown",
   "metadata": {},
   "source": [
    "# How to create a jupyter notebook programmatically\n",
    "\n",
    "1. Edit the `nbcreate.py` script\n",
    "    - Change the object and file names on lines 10 and 12 to read in markdown (`.md`) and python (`.py`) files using the `read_file` function.\n",
    "    - If you have a large number of files to import, instead of duplicating the lines, consider using a `for` loop or the `map` function.\n",
    "    - Edit the list of notebook cells (starting on line 14)\n",
    "    - On the last line, change the notebook filename to something more informative.\n",
    "2. Save the `nbcreate.py` script\n",
    "3. Run `nbcreate.py` script from the command line\n",
    "    - `python nbcreate.py`\n",
    "3. Execute the notebook created by the `nbcreate.py` script\n"
   ]
  },
  {
   "cell_type": "code",
   "execution_count": null,
   "metadata": {},
   "outputs": [],
   "source": [
    "import numpy as np\n",
    "import matplotlib.pyplot as plt\n",
    "# %% scatter\n",
    "N = 50\n",
    "x = np.random.rand(N)\n",
    "y = np.random.rand(N)\n",
    "colors = np.random.rand(N)\n",
    "area = np.pi * (15 * np.random.rand(N))**2  # 0 to 15 point radii\n",
    "plt.scatter(x, y, s=area, c=colors, alpha=0.5)\n",
    "plt.show()"
   ]
  },
  {
   "cell_type": "markdown",
   "metadata": {},
   "source": []
  }
 ],
 "metadata": {
  "kernelspec": {
   "display_name": "Python 3",
   "language": "python",
   "name": "python3"
  },
  "language_info": {
   "codemirror_mode": {
    "name": "ipython",
    "version": 3
   },
   "file_extension": ".py",
   "mimetype": "text/x-python",
   "name": "python",
   "nbconvert_exporter": "python",
   "pygments_lexer": "ipython3",
   "version": "3.6.5"
  }
 },
 "nbformat": 4,
 "nbformat_minor": 2
}
