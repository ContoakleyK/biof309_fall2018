{
 "cells": [
  {
   "cell_type": "markdown",
   "metadata": {},
   "source": [
    "## Code examples\n",
    "\n",
    "- [TextFile class](https://github.com/marskar/biof309_fall2018/zen/zen.nb.html)\n",
    "\n",
    "## Host your HTML slides on GitHub pages\n",
    "\n",
    "### Knit (Ctrl/Cmd + Shift + K) slides from Rmd to HTML in [RStudio](https://rmarkdown.rstudio.com/lesson-11.html) or from the command-line as below:\n",
    "\n",
    "```\n",
    "Rscript -e \"rmarkdown::render('slidy.Rmd', 'slidy_presentation')\"\n",
    "```\n",
    "- [ioslides](/biof309_fall2018/slides/ioslides.html)\n",
    "- [slidy](/biof309_fall2018/slides/slidy.html)\n",
    "- [xaringan](/biof309_fall2018/slides/xaringan.html)\n",
    "\n",
    "### Create HTML slides from md using [Pandoc](http://pandoc.org/MANUAL.html#producing-slide-shows-with-pandoc) from the command-line as below:\n",
    "\n",
    "```\n",
    "pandoc -t slidy -s habits-pandoc.md -o slidy-pandoc.html\n",
    "```\n",
    "- [dzslides](/biof309_fall2018/slides/dzslides-pandoc.html)\n",
    "- [slidy](/biof309_fall2018/slides/slidy-pandoc.html)\n",
    "\n",
    "### Create HTML slides from ipynb using [nbconvert](https://nbconvert.readthedocs.io/en/latest/) from the command-line as below:\n",
    "\n",
    "```\n",
    "url=\"https://cdnjs.cloudflare.com/ajax/libs/reveal.js/3.5.0\"\n",
    "jupyter nbconvert revealjs.ipynb --to slides --reveal-prefix=$url\n",
    "```\n",
    "\n",
    "- [revealjs](/biof309_fall2018/slides/revealjs.slides.html)\n",
    "\n",
    "Exporting slides from JupyterLab does not work (great) right now.\n",
    "It requires some [additional setup](https://github.com/jupyterlab/jupyterlab/issues/4067).\n",
    "I would not recommend trying it until the next version of `jupyter nbconvert` comes out.\n"
   ]
  },
  {
   "cell_type": "code",
   "execution_count": 1,
   "metadata": {},
   "outputs": [
    {
     "data": {
      "text/plain": [
       "True"
      ]
     },
     "execution_count": 1,
     "metadata": {},
     "output_type": "execute_result"
    }
   ],
   "source": [
    "from cube import cube\n",
    "from math import pow\n",
    "\n",
    "cube(2) # returns 8\n",
    "pow(2, 3) # returns 8.0\n",
    "\n",
    "cube(2) == pow(2, 3) # returns True\n"
   ]
  }
 ],
 "metadata": {
  "kernelspec": {
   "display_name": "Python 3",
   "language": "python",
   "name": "python3"
  },
  "language_info": {
   "codemirror_mode": {
    "name": "ipython",
    "version": 3
   },
   "file_extension": ".py",
   "mimetype": "text/x-python",
   "name": "python",
   "nbconvert_exporter": "python",
   "pygments_lexer": "ipython3",
   "version": "3.6.5"
  }
 },
 "nbformat": 4,
 "nbformat_minor": 2
}
