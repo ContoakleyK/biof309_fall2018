{
 "cells": [
  {
   "cell_type": "markdown",
   "metadata": {},
   "source": [
    "# Create and execute a Jupyter notebook in the terminal\n",
    "\n",
    "1. Create a notebook\n",
    "    - Run `nbcreate.py` script in your terminal, providing all of the names of the source files as arguments, e.g.\n",
    "    \n",
    "    `python nbcreate.py README.md plot.py notes.txt`\n",
    "    \n",
    "2. Execute the notebook\n",
    "    - Run the following command in your terminal:\n",
    "    \n",
    "    `jupyter nbconvert raw.ipynb --to notebook --execute --output out.ipynb`\n",
    " \n",
    "You can change `out.ipynb` to a more descriptive filename in the command above.\n"
   ]
  },
  {
   "cell_type": "markdown",
   "metadata": {},
   "source": []
  },
  {
   "cell_type": "code",
   "execution_count": 1,
   "metadata": {},
   "outputs": [
    {
     "data": {
      "text/plain": [
       "<Figure size 640x480 with 1 Axes>"
      ]
     },
     "metadata": {},
     "output_type": "display_data"
    }
   ],
   "source": [
    "import numpy as np\n",
    "import matplotlib.pyplot as plt\n",
    "# %% scatter\n",
    "N = 50\n",
    "x = np.random.rand(N)\n",
    "y = np.random.rand(N)\n",
    "colors = np.random.rand(N)\n",
    "area = np.pi * (15 * np.random.rand(N))**2  # 0 to 15 point radii\n",
    "plt.scatter(x, y, s=area, c=colors, alpha=0.5)\n",
    "plt.show()"
   ]
  }
 ],
 "metadata": {},
 "nbformat": 4,
 "nbformat_minor": 2
}
