{
 "cells": [
  {
   "cell_type": "markdown",
   "metadata": {},
   "source": [
    "# Operators and Conditional Statements\n",
    "## October 18th, 2018\n",
    "## Jinping Liu and Michael Chambers\n",
    "---\n",
    "### Outline\n",
    "* Jupyter Notebooks/Jupyter Lab\n",
    "* Functions Review\n",
    "* Operators (followed by exercise)\n",
    "* Conditional Statements (followed by exercise)\n",
    "* Big Exercise: Making a Magic 8-Ball function\n",
    "\n",
    "### Resources\n",
    "* [Quick starting guide to Jupyter Notebooks](https://www.youtube.com/watch?v=DPi6CAkUUPY)\n",
    "* [Write Better Python Functions - Jeff Knupp](https://jeffknupp.com/blog/2018/10/11/write-better-python-functions//)"
   ]
  },
  {
   "cell_type": "markdown",
   "metadata": {},
   "source": [
    "# Jupyter Notebooks\n",
    "---\n",
    "* Using Python in code cells\n",
    "* Code cells and markdown cells\n",
    "* Illustrate the state of objects (jump between cells)\n",
    "* Going from notebooks to scripts"
   ]
  },
  {
   "cell_type": "code",
   "execution_count": null,
   "metadata": {},
   "outputs": [],
   "source": []
  },
  {
   "cell_type": "markdown",
   "metadata": {},
   "source": [
    "# Functions Review\n",
    "---\n",
    "* Why do we need functions?\n",
    "* Functions provided by Python upfront\n",
    "* Key features to writing good functions:\n",
    "    * Sensible name\n",
    "    * Documentation\n",
    "    * Does one thing\n",
    "    * Returns a value\n",
    "    * Readability counts!"
   ]
  },
  {
   "cell_type": "code",
   "execution_count": null,
   "metadata": {},
   "outputs": [],
   "source": []
  },
  {
   "cell_type": "markdown",
   "metadata": {},
   "source": [
    "# Operators (Jinping)\n",
    "---"
   ]
  },
  {
   "cell_type": "code",
   "execution_count": null,
   "metadata": {},
   "outputs": [],
   "source": []
  },
  {
   "cell_type": "markdown",
   "metadata": {},
   "source": [
    "# Conditional Statements (Michael)\n",
    "---"
   ]
  },
  {
   "cell_type": "code",
   "execution_count": null,
   "metadata": {},
   "outputs": [],
   "source": []
  },
  {
   "cell_type": "markdown",
   "metadata": {},
   "source": [
    "# Exercise\n",
    "---\n",
    "Let's make a \"[Magic 8-Ball](https://en.wikipedia.org/wiki/Magic_8-Ball)\" function\n",
    "* Your function will take a single string input\n",
    "* Your function will return a message based on the length of the string input\n",
    "    * Your function should return a minimum of six unique messages\n",
    "    * Use a combination of conditional statements and operators to determine the message output\n",
    "    * HINT: You can use the \"len()\" function to determine the length of the string input\n",
    "* Don't forget to add some documentation\n",
    "\n",
    "BONUS POINTS:\n",
    "* Check that the input is a string (and not something else like an integer or float)\n",
    "* Check that the input contains a question mark (\"?\")\n",
    "* If no input is provided, prompt the user for input (check out the \"input()\" function)\n",
    "* Add a conditional statement that checks for an exact string match and returns a unique message for that specific string input\n",
    "* Check that a single input was provided to the function\n",
    "\n",
    "MEGA BONUS POINTS:\n",
    "* Upload your magic 8-ball function to your GitHub and have a neighbor try it out!"
   ]
  },
  {
   "cell_type": "code",
   "execution_count": 10,
   "metadata": {},
   "outputs": [],
   "source": [
    "# here's an example\n",
    "def mikes_magic_8(x):\n",
    "    \"\"\"This is my magic 8 ball function\n",
    "    \n",
    "    Arguments\n",
    "    _________\n",
    "    x (string): the question\n",
    "    \n",
    "    Returns\n",
    "    _______\n",
    "    \n",
    "    \n",
    "    \"\"\"\n",
    "    if len(x) < 4:\n",
    "        return \"I'm gonna say no on this one\"\n",
    "    \n",
    "    if x == \"cheese?\":\n",
    "        return \"Yes PLEASE!\""
   ]
  },
  {
   "cell_type": "code",
   "execution_count": 11,
   "metadata": {},
   "outputs": [
    {
     "data": {
      "text/plain": [
       "'Yes PLEASE!'"
      ]
     },
     "execution_count": 11,
     "metadata": {},
     "output_type": "execute_result"
    }
   ],
   "source": [
    "mikes_magic_8(\"cheese?\")"
   ]
  },
  {
   "cell_type": "code",
   "execution_count": null,
   "metadata": {},
   "outputs": [],
   "source": []
  }
 ],
 "metadata": {
  "kernelspec": {
   "display_name": "Python 3",
   "language": "python",
   "name": "python3"
  },
  "language_info": {
   "codemirror_mode": {
    "name": "ipython",
    "version": 3
   },
   "file_extension": ".py",
   "mimetype": "text/x-python",
   "name": "python",
   "nbconvert_exporter": "python",
   "pygments_lexer": "ipython3",
   "version": "3.6.5"
  }
 },
 "nbformat": 4,
 "nbformat_minor": 2
}
