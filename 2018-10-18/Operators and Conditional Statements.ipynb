{
 "cells": [
  {
   "cell_type": "markdown",
   "metadata": {},
   "source": [
    "# Operators and Conditional Statements\n",
    "### October 18th, 2018\n",
    "### Jinping Liu and Michael Chambers\n",
    "---\n",
    "### Outline\n",
    "* Jupyter Notebooks/Jupyter Lab\n",
    "* Functions Review\n",
    "* Operators (followed by exercise)\n",
    "* Conditional Statements (followed by exercise)\n",
    "* Final Exercise: Making a Magic 8-Ball function\n",
    "\n",
    "### Resources\n",
    "* [Quick starting guide to Jupyter Notebooks](https://www.youtube.com/watch?v=DPi6CAkUUPY)\n",
    "* [Write Better Python Functions - Jeff Knupp](https://jeffknupp.com/blog/2018/10/11/write-better-python-functions//)"
   ]
  },
  {
   "cell_type": "markdown",
   "metadata": {},
   "source": [
    "# Jupyter Notebooks\n",
    "---\n",
    "* Using Python in code cells\n",
    "* Code cells and markdown cells\n",
    "* Illustrate the state of objects (jump between cells)\n",
    "* Going from notebooks to scripts"
   ]
  },
  {
   "cell_type": "code",
   "execution_count": null,
   "metadata": {},
   "outputs": [],
   "source": []
  },
  {
   "cell_type": "markdown",
   "metadata": {},
   "source": [
    "# Functions Review\n",
    "---\n",
    "* Why do we need functions?\n",
    "* Functions provided by Python upfront\n",
    "* Key features to writing good functions:\n",
    "    * Sensible name\n",
    "    * Documentation\n",
    "    * Does one thing\n",
    "    * Returns a value\n",
    "    * Readability counts!"
   ]
  },
  {
   "cell_type": "code",
   "execution_count": null,
   "metadata": {},
   "outputs": [],
   "source": []
  },
  {
   "cell_type": "markdown",
   "metadata": {},
   "source": [
    "# Operators (Jinping)\n",
    "---"
   ]
  },
  {
   "cell_type": "code",
   "execution_count": null,
   "metadata": {},
   "outputs": [],
   "source": []
  },
  {
   "cell_type": "markdown",
   "metadata": {},
   "source": [
    "# Conditional Statements (Michael)\n",
    "---\n",
    "Conditional statements are used in code to do different things based the condition of a variable.  This allows you to do different things based on different input.  Conditional statements are tested once and they run in the order that they are written.\n",
    "\n",
    "Types of conditional statements:\n",
    "- **\"if\"** - use to check if a condition is true, then runs indented block of code\n",
    "- **\"elif\"** - must follow an \"if\" statement, if the above \"if\" statement is false, the \"elif\" statement will be checked\n",
    "- **\"else\"** - must follow an \"if\" or \"elif\" statement, used as a catch-all if none of the above statements are found to be true\n",
    "\n",
    "Constructing a conditional statement:\n",
    "- start with one of the three condition types (if, elif, else)\n",
    "- for \"if\" and \"elif\", write a statement using operators that checks the condition of a variable\n",
    "- the first line of a conditional statement ends in a colon (\":\")\n",
    "- the action for the condition is indented (4 spaces)\n",
    "    - i.e. indented code runs when the condition is found to be true"
   ]
  },
  {
   "cell_type": "code",
   "execution_count": null,
   "metadata": {},
   "outputs": [],
   "source": [
    "# write a conditional statement that is True\n",
    "if True:\n",
    "    print('The condition is True!')"
   ]
  },
  {
   "cell_type": "code",
   "execution_count": null,
   "metadata": {},
   "outputs": [],
   "source": [
    "# now add an \"else\" statement as a catch-all for when the \n",
    "# above condition is not found to be true\n",
    "x = False\n",
    "\n",
    "if x:\n",
    "    print('The condition is True!')\n",
    "else:\n",
    "    print('Oh dear, the condition is not True')"
   ]
  },
  {
   "cell_type": "markdown",
   "metadata": {},
   "source": [
    "### You can use operators in your conditional statements to check the condition of a variable"
   ]
  },
  {
   "cell_type": "code",
   "execution_count": null,
   "metadata": {},
   "outputs": [],
   "source": [
    "# create a variable called \"water_temperature\" and assign a value\n",
    "water_temperature = -1"
   ]
  },
  {
   "cell_type": "code",
   "execution_count": null,
   "metadata": {},
   "outputs": [],
   "source": [
    "# use a conditional statement to determine if water is boiling\n",
    "if water_temperature > 100:\n",
    "    print('Boiling!')"
   ]
  },
  {
   "cell_type": "code",
   "execution_count": null,
   "metadata": {},
   "outputs": [],
   "source": [
    "# use two conditional statements to determine if water is boiling or not\n",
    "if water_temperature > 100:\n",
    "    print('Boiling!')\n",
    "else:\n",
    "    print('Not boiling!')"
   ]
  },
  {
   "cell_type": "code",
   "execution_count": null,
   "metadata": {},
   "outputs": [],
   "source": [
    "# change variable value to -5\n",
    "# use three conditional statements to determine that physical state of water\n",
    "water_temperature = -5\n",
    "if water_temperature > 100:\n",
    "    print('Boiling!')\n",
    "elif water_temperature > 0:\n",
    "    print('Liquid!')\n",
    "else:\n",
    "    print('Solid!')"
   ]
  },
  {
   "cell_type": "markdown",
   "metadata": {},
   "source": [
    "### You can break-up conditional statements to recheck a variable\n",
    "Remember, if a variable should changes after it has been checked Python does not \"go back\" to check it's condition.  This is because the code is executed linearly."
   ]
  },
  {
   "cell_type": "code",
   "execution_count": 18,
   "metadata": {},
   "outputs": [
    {
     "name": "stdout",
     "output_type": "stream",
     "text": [
      "a=1!\n",
      "Whoa man, that variable does NOT equal 1.\n"
     ]
    }
   ],
   "source": [
    "# set variable \"a\" equal to 1\n",
    "a = 1\n",
    "\n",
    "# check if \"a\" equals 1\n",
    "if a == 1:\n",
    "    print(\"Variable is equal to 1!\")\n",
    "else:\n",
    "    print(\"Whoa man, that variable does NOT equal 1.\")\n",
    "\n",
    "# change the value of variable \"a\"\n",
    "a += 1\n",
    "\n",
    "# check again if \"a\" equals 1\n",
    "if a == 1:\n",
    "    print(\"Variable is equal to 1!\")\n",
    "else:\n",
    "    print(\"Whoa man, that variable does NOT equal 1.\")"
   ]
  },
  {
   "cell_type": "markdown",
   "metadata": {},
   "source": [
    "### What's the difference between using \"if\" and \"elif\"?\n",
    "You could certainly use \"if\" multiple times and **all** the conditions will be tested."
   ]
  },
  {
   "cell_type": "code",
   "execution_count": 10,
   "metadata": {},
   "outputs": [
    {
     "name": "stdout",
     "output_type": "stream",
     "text": [
      "Testing condition #1\n",
      "Testing condition #2\n",
      "Testing condition #3\n",
      "3\n"
     ]
    }
   ],
   "source": [
    "a = 1\n",
    "b = 2\n",
    "c = 3\n",
    "greatest = a # choose any variable (a, b, or c)\n",
    "\n",
    "print('Testing condition #1')\n",
    "if a > greatest:\n",
    "    greatest = a\n",
    "\n",
    "print('Testing condition #2')\n",
    "if b > greatest:\n",
    "    greatest = b\n",
    "\n",
    "print('Testing condition #3')\n",
    "if c > greatest:\n",
    "    greatest = c\n",
    "\n",
    "print(greatest)"
   ]
  },
  {
   "cell_type": "markdown",
   "metadata": {},
   "source": [
    "But if the case your are testing for is mutually exclusive, you can use \"elif\" and \"else\" statements to test only the conditions that are necessary."
   ]
  },
  {
   "cell_type": "code",
   "execution_count": 8,
   "metadata": {},
   "outputs": [
    {
     "name": "stdout",
     "output_type": "stream",
     "text": [
      "Testing condition #1\n",
      "3\n"
     ]
    }
   ],
   "source": [
    "# Note: you'll have to comment-out the \"Testing condition\" messages for this cell to run\n",
    "a = 1\n",
    "b = 2\n",
    "c = 3\n",
    "greatest = a # choose any variable (a, b, or c)\n",
    "\n",
    "print('Testing condition #1')\n",
    "if a >= b and a >= c:\n",
    "    greatest = a\n",
    "\n",
    "print('Testing condition #2')\n",
    "elif b >= a and b >= c:\n",
    "    greatest = b\n",
    "\n",
    "print('Testing condition #3')\n",
    "else:\n",
    "    greatest = c\n",
    "\n",
    "print(greatest)"
   ]
  },
  {
   "cell_type": "markdown",
   "metadata": {},
   "source": [
    "### Functions can incorporate conditional statements"
   ]
  },
  {
   "cell_type": "code",
   "execution_count": null,
   "metadata": {},
   "outputs": [],
   "source": []
  },
  {
   "cell_type": "markdown",
   "metadata": {},
   "source": [
    "### Conditional statements can be nested with indentation"
   ]
  },
  {
   "cell_type": "code",
   "execution_count": null,
   "metadata": {},
   "outputs": [],
   "source": []
  },
  {
   "cell_type": "markdown",
   "metadata": {},
   "source": [
    "### Conditinal statements exercise"
   ]
  },
  {
   "cell_type": "code",
   "execution_count": null,
   "metadata": {},
   "outputs": [],
   "source": []
  },
  {
   "cell_type": "markdown",
   "metadata": {},
   "source": [
    "# Final Exercise\n",
    "---\n",
    "Let's make a \"[Magic 8-Ball](https://en.wikipedia.org/wiki/Magic_8-Ball)\" function\n",
    "* Your function will take a single string input\n",
    "* Your function will return a message based on the length of the string input\n",
    "    * Your function should return a minimum of six unique messages\n",
    "    * Use a combination of conditional statements and operators to determine the message output\n",
    "    * HINT: You can use the \"len()\" function to determine the length of the string input\n",
    "* Don't forget to add some documentation\n",
    "\n",
    "BONUS POINTS:\n",
    "* Check that the input is a string (and not something else like an integer or float)\n",
    "* Check that the input contains a question mark (\"?\")\n",
    "* If no input is provided, prompt the user for input (check out the \"input()\" function)\n",
    "* Add a conditional statement that checks for an exact string match and returns a unique message for that specific string input\n",
    "* Check that a single input was provided to the function\n",
    "\n",
    "MEGA BONUS POINTS:\n",
    "* Upload your magic 8-ball function to your GitHub and have a neighbor try it out!"
   ]
  },
  {
   "cell_type": "code",
   "execution_count": 10,
   "metadata": {},
   "outputs": [],
   "source": [
    "# here's an example\n",
    "def mikes_magic_8(x):\n",
    "    \"\"\"This is my magic 8 ball function\n",
    "    \n",
    "    Arguments\n",
    "    _________\n",
    "    x (string): the question\n",
    "    \n",
    "    Returns\n",
    "    _______\n",
    "    \n",
    "    \n",
    "    \"\"\"\n",
    "    if len(x) < 4:\n",
    "        return \"I'm gonna say no on this one\"\n",
    "    \n",
    "    if x == \"cheese?\":\n",
    "        return \"Yes PLEASE!\""
   ]
  },
  {
   "cell_type": "code",
   "execution_count": 11,
   "metadata": {},
   "outputs": [
    {
     "data": {
      "text/plain": [
       "'Yes PLEASE!'"
      ]
     },
     "execution_count": 11,
     "metadata": {},
     "output_type": "execute_result"
    }
   ],
   "source": [
    "mikes_magic_8(\"cheese?\")"
   ]
  },
  {
   "cell_type": "code",
   "execution_count": null,
   "metadata": {},
   "outputs": [],
   "source": []
  }
 ],
 "metadata": {
  "kernelspec": {
   "display_name": "Python 3",
   "language": "python",
   "name": "python3"
  },
  "language_info": {
   "codemirror_mode": {
    "name": "ipython",
    "version": 3
   },
   "file_extension": ".py",
   "mimetype": "text/x-python",
   "name": "python",
   "nbconvert_exporter": "python",
   "pygments_lexer": "ipython3",
   "version": "3.6.5"
  }
 },
 "nbformat": 4,
 "nbformat_minor": 2
}
